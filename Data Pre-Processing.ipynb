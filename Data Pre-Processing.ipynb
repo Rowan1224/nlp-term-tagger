{
 "cells": [
  {
   "cell_type": "code",
   "execution_count": 64,
   "id": "80809765",
   "metadata": {},
   "outputs": [],
   "source": [
    "import os\n",
    "import fnmatch\n",
    "import string"
   ]
  },
  {
   "cell_type": "code",
   "execution_count": 19,
   "id": "53587de3",
   "metadata": {},
   "outputs": [],
   "source": [
    "def get_files(path, pattern='*.final'):\n",
    "    \n",
    "    files = []\n",
    "    for root, dirnames, filenames in os.walk(path):\n",
    "\n",
    "        for filename in fnmatch.filter(filenames, pattern):\n",
    "            files.append(os.path.join(root, filename) )\n",
    "\n",
    "\n",
    "    # sort the list, to avoid mismatch in the output files\n",
    "    files = sorted(files)\n",
    "    \n",
    "    return files\n"
   ]
  },
  {
   "cell_type": "code",
   "execution_count": 77,
   "id": "7ff56605",
   "metadata": {},
   "outputs": [],
   "source": [
    "def read_data(file):\n",
    "    \n",
    "    try:\n",
    "        with open(file,'r') as file:\n",
    "            lines = [(line.strip().split()) for line in file if len(line.strip().split())==2]\n",
    "            \n",
    "    except:\n",
    "        print(f'Courrpt File: {file}')\n",
    "        return []\n",
    "        \n",
    "    i = 0\n",
    "    sentences = []\n",
    "    \n",
    "    for j,token in enumerate(lines):\n",
    "    \n",
    "    \n",
    "        if len(token)>0 and token[0] =='.':\n",
    "            sentences.append(lines[i:j+1])\n",
    "            i = j+1\n",
    "        if len(token)==1:\n",
    "            print(file)\n",
    "        else:\n",
    "            continue\n",
    "            \n",
    "    return sentences\n",
    "                "
   ]
  },
  {
   "cell_type": "code",
   "execution_count": 114,
   "id": "cbb85869",
   "metadata": {},
   "outputs": [],
   "source": [
    "def prepare_data(files):\n",
    "    \n",
    "    mx_length = 0\n",
    "    data = []\n",
    "    for file in files:\n",
    "        data.extend(read_data(file))\n",
    "    \n",
    "    sens = []\n",
    "    labels = []\n",
    "    for item in data:\n",
    "        \n",
    "        tokens = []\n",
    "        label = []\n",
    "        for entry in item:\n",
    "            if len(entry[0]) == 1 and entry[0] in string.punctuation:\n",
    "                continue\n",
    "            else:\n",
    "                tokens.append(entry[0])\n",
    "                label.append(entry[1])\n",
    "        \n",
    "        assert len(label)==len(tokens)\n",
    "        \n",
    "        if len(tokens) > 100:\n",
    "            continue\n",
    "        \n",
    "        sens.append(\" \".join(tokens))\n",
    "        labels.append(\" \".join(label))\n",
    "        \n",
    "        mx_length = max(mx_length, len(tokens))\n",
    "        \n",
    "\n",
    "        \n",
    "    print(f\"Max Length: {mx_length}\")\n",
    "    \n",
    "    if mx_length> 100:\n",
    "        print(file)\n",
    "        \n",
    "    return sens, labels\n",
    "        "
   ]
  },
  {
   "cell_type": "code",
   "execution_count": 97,
   "id": "e5a5558c",
   "metadata": {},
   "outputs": [],
   "source": [
    "def write_files(sens,labels,path):\n",
    "    \n",
    "    filenameSen = os.path.join(path,'sentences.txt')\n",
    "    filenameLabel = os.path.join(path,'labels.txt')\n",
    "    \n",
    "    with open(filenameSen,'w') as file:\n",
    "        lines = \"\\n\".join(sens)\n",
    "        file.write(lines)\n",
    "        \n",
    "    \n",
    "    with open(filenameLabel,'w') as file:\n",
    "        lines = \"\\n\".join(labels)\n",
    "        file.write(lines)\n",
    "    \n",
    "    \n",
    "    "
   ]
  },
  {
   "cell_type": "code",
   "execution_count": 103,
   "id": "7366034c",
   "metadata": {},
   "outputs": [],
   "source": [
    "    \n",
    "def create_vocab(sentences):    \n",
    "\n",
    "    word_string = ' '.join(sentences)\n",
    "        \n",
    "    vocab = set(word_string.split())\n",
    "    return list(vocab)"
   ]
  },
  {
   "cell_type": "code",
   "execution_count": 20,
   "id": "b557da64",
   "metadata": {},
   "outputs": [],
   "source": [
    "train_path = 'Dataset/train'\n",
    "dev_path = 'Dataset/dev'\n",
    "test_path = 'Dataset/test'\n",
    "\n",
    "\n",
    "train_files = get_files(train_path)\n",
    "dev_files = get_files(dev_path)\n",
    "test_files = get_files(test_path)\n"
   ]
  },
  {
   "cell_type": "code",
   "execution_count": 115,
   "id": "9b1b4845",
   "metadata": {},
   "outputs": [
    {
     "name": "stdout",
     "output_type": "stream",
     "text": [
      "Max Length: 87\n",
      "Courrpt File: <_io.TextIOWrapper name='Dataset/dev/2019/2019-45-2-293-337.final' mode='r' encoding='UTF-8'>\n",
      "Max Length: 60\n",
      "Max Length: 48\n"
     ]
    }
   ],
   "source": [
    "train_sens, train_labels = prepare_data(train_files)\n",
    "dev_sens, dev_labels = prepare_data(dev_files)\n",
    "test_sens, test_labels = prepare_data(test_files)"
   ]
  },
  {
   "cell_type": "code",
   "execution_count": 116,
   "id": "00c0daf5",
   "metadata": {},
   "outputs": [],
   "source": [
    "write_files(train_sens, train_labels, train_path)\n",
    "write_files(dev_sens, dev_labels, dev_path)\n",
    "write_files(test_sens, test_labels, test_path)"
   ]
  },
  {
   "cell_type": "code",
   "execution_count": 107,
   "id": "2cc09a10",
   "metadata": {},
   "outputs": [],
   "source": [
    "vocab = create_vocab(train_sens)\n",
    "\n",
    "with open('vocab.txt','w') as file:\n",
    "        lines = \"\\n\".join(vocab)\n",
    "        file.write(lines)"
   ]
  },
  {
   "cell_type": "code",
   "execution_count": null,
   "id": "1bd1085e",
   "metadata": {},
   "outputs": [],
   "source": []
  }
 ],
 "metadata": {
  "kernelspec": {
   "display_name": "Python 3 (ipykernel)",
   "language": "python",
   "name": "python3"
  },
  "language_info": {
   "codemirror_mode": {
    "name": "ipython",
    "version": 3
   },
   "file_extension": ".py",
   "mimetype": "text/x-python",
   "name": "python",
   "nbconvert_exporter": "python",
   "pygments_lexer": "ipython3",
   "version": "3.10.6"
  }
 },
 "nbformat": 4,
 "nbformat_minor": 5
}
