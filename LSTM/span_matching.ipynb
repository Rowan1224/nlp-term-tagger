{
 "cells": [
  {
   "cell_type": "code",
   "execution_count": 11,
   "id": "6735935e",
   "metadata": {},
   "outputs": [],
   "source": [
    "file = '../Dataset/train/labels.txt'\n",
    "\n",
    "with open(file,'r') as file:\n",
    "    labels = [line.strip() for line in file]"
   ]
  },
  {
   "cell_type": "code",
   "execution_count": 12,
   "id": "f63d6fa3",
   "metadata": {},
   "outputs": [],
   "source": [
    "import pandas as pd\n",
    "\n",
    "df = pd.read_csv('outputs.csv')\n",
    "\n",
    "true = df['true'].tolist()\n",
    "pred = df['preds'].tolist()"
   ]
  },
  {
   "cell_type": "code",
   "execution_count": 13,
   "id": "1bd78094",
   "metadata": {},
   "outputs": [],
   "source": [
    "import re\n",
    "pattern = \"B( I)+|B|B O( I)\"\n",
    "\n",
    "def get_span(label):\n",
    "    \n",
    "#     matches = re.finditer(pattern, label)\n",
    "#     spansString = [match.group(0) for match in matches]\n",
    "    \n",
    "    matches = re.finditer(pattern, label)\n",
    "    spansPositions = [match.span() for match in matches]\n",
    "    \n",
    "    \n",
    "    return spansPositions\n",
    "    \n",
    "    \n",
    "    \n",
    "    \n",
    "def match(t,p):\n",
    "    \n",
    "    count = 0\n",
    "    trueSpans = set(get_span(t))\n",
    "    predSpans = set(get_span(p))\n",
    "    \n",
    "    intersection = trueSpans.intersection(predSpans)\n",
    "    \n",
    "    \n",
    "#     print(intersection)\n",
    "    return len(trueSpans), len(predSpans), len(intersection)\n",
    "    "
   ]
  },
  {
   "cell_type": "code",
   "execution_count": 14,
   "id": "c47963f7",
   "metadata": {},
   "outputs": [
    {
     "name": "stdout",
     "output_type": "stream",
     "text": [
      "O O O O O O O O O O O O O O O O B I O O O O O B I I O B I O O O B\n",
      "O O O O O O B I O O O O O B O O O O O O O O O B I O O B I I O O O\n"
     ]
    }
   ],
   "source": [
    "print(true[0])\n",
    "print(pred[0])"
   ]
  },
  {
   "cell_type": "code",
   "execution_count": 15,
   "id": "6232ad78",
   "metadata": {},
   "outputs": [
    {
     "data": {
      "text/plain": [
       "(3, 3, 1)"
      ]
     },
     "execution_count": 15,
     "metadata": {},
     "output_type": "execute_result"
    }
   ],
   "source": [
    "match(true[1],pred[1])"
   ]
  },
  {
   "cell_type": "code",
   "execution_count": 16,
   "id": "eb3ee312",
   "metadata": {},
   "outputs": [
    {
     "data": {
      "text/plain": [
       "[(32, 35), (46, 51), (54, 57), (64, 65)]"
      ]
     },
     "execution_count": 16,
     "metadata": {},
     "output_type": "execute_result"
    }
   ],
   "source": [
    "get_span(true[0])"
   ]
  },
  {
   "cell_type": "code",
   "execution_count": 17,
   "id": "d3ab4d98",
   "metadata": {},
   "outputs": [
    {
     "data": {
      "text/plain": [
       "[(12, 15), (26, 27), (46, 49), (54, 59)]"
      ]
     },
     "execution_count": 17,
     "metadata": {},
     "output_type": "execute_result"
    }
   ],
   "source": [
    "get_span(pred[0])"
   ]
  },
  {
   "cell_type": "code",
   "execution_count": 18,
   "id": "af282669",
   "metadata": {},
   "outputs": [
    {
     "name": "stdout",
     "output_type": "stream",
     "text": [
      "Recall: 0.41\n",
      "Precision: 0.45\n",
      "F1: 0.43\n"
     ]
    }
   ],
   "source": [
    "totalGold = 0\n",
    "totalPred = 0\n",
    "correct = 0\n",
    "for t,p in zip(true,pred):\n",
    "    \n",
    "    trueSpanCount, predSpanCount, matchCount = match(t,p)\n",
    "    totalGold += trueSpanCount\n",
    "    totalPred += predSpanCount\n",
    "    correct+= matchCount\n",
    "\n",
    "recall = correct/totalGold\n",
    "precision = correct/totalPred\n",
    "f1 = 2/((1/recall)+(1/precision))\n",
    "\n",
    "print(f\"Recall: {recall:.2f}\")\n",
    "print(f\"Precision: {precision:.2f}\")\n",
    "print(f\"F1: {f1:.2f}\")"
   ]
  },
  {
   "cell_type": "code",
   "execution_count": 19,
   "id": "6ff5a9d0",
   "metadata": {},
   "outputs": [
    {
     "data": {
      "text/plain": [
       "'O O O O O O O O O O O O O O O O B I O O O O O B I I O B I O O O B'"
      ]
     },
     "execution_count": 19,
     "metadata": {},
     "output_type": "execute_result"
    }
   ],
   "source": [
    "true[0]"
   ]
  },
  {
   "cell_type": "code",
   "execution_count": 20,
   "id": "dbb2e55e",
   "metadata": {},
   "outputs": [
    {
     "data": {
      "text/plain": [
       "'O O O O O O B I O O O O O B O O O O O O O O O B I O O B I I O O O'"
      ]
     },
     "execution_count": 20,
     "metadata": {},
     "output_type": "execute_result"
    }
   ],
   "source": [
    "pred[0]"
   ]
  },
  {
   "cell_type": "code",
   "execution_count": null,
   "id": "9b67cd4c",
   "metadata": {},
   "outputs": [],
   "source": []
  }
 ],
 "metadata": {
  "kernelspec": {
   "display_name": "Python 3 (ipykernel)",
   "language": "python",
   "name": "python3"
  },
  "language_info": {
   "codemirror_mode": {
    "name": "ipython",
    "version": 3
   },
   "file_extension": ".py",
   "mimetype": "text/x-python",
   "name": "python",
   "nbconvert_exporter": "python",
   "pygments_lexer": "ipython3",
   "version": "3.10.6"
  }
 },
 "nbformat": 4,
 "nbformat_minor": 5
}
