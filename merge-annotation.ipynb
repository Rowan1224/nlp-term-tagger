{
 "cells": [
  {
   "cell_type": "code",
   "execution_count": 47,
   "id": "dd55dcd3",
   "metadata": {},
   "outputs": [],
   "source": [
    "import os\n",
    "import collections\n",
    "\n",
    "#input directory\n",
    "dir = '2016-train'\n",
    "\n",
    "files = os.listdir(dir)\n",
    "data = collections.defaultdict(dict)\n",
    "for fileName in files:\n",
    "    if fileName[0] =='.':\n",
    "        continue\n",
    "    with open(os.path.join(dir,fileName),'r') as file:\n",
    "        \n",
    "        annotations = [line.strip().split() for line in file]\n",
    "        \n",
    "        if 'ann1' in fileName:\n",
    "            fileName = fileName.split('.')[0]\n",
    "            data[fileName]['ann1'] = annotations\n",
    "        else:\n",
    "            fileName = fileName.split('.')[0]\n",
    "            data[fileName]['ann2'] = annotations\n",
    "            \n"
   ]
  },
  {
   "cell_type": "code",
   "execution_count": 43,
   "id": "6836c7fb",
   "metadata": {},
   "outputs": [
    {
     "name": "stdout",
     "output_type": "stream",
     "text": [
      "2016-42-2-245-275\n",
      "[] []\n",
      "2016-42-2-245-275\n",
      "[] []\n",
      "2016-42-2-245-275\n",
      "['O'] ['O']\n"
     ]
    }
   ],
   "source": [
    "import pandas as pd\n",
    "\n",
    "rawData = list()\n",
    "\n",
    "for k,v in data.items():\n",
    "    \n",
    "    for a,b in zip(v['ann1'],v['ann2']):\n",
    "        row={}\n",
    "        row['article'] = k\n",
    "        if (len(a)==2 and len(b)==2):\n",
    "#                 print(a[0],a[1],b[1])\n",
    "            if a[0] == b[0]:\n",
    "                row['token'] = a[0]\n",
    "                row['ann1'] = a[1]\n",
    "                row['ann2'] = b[1]\n",
    "                if a[1]!=b[1]:\n",
    "                    row['diff']='T'\n",
    "                else:\n",
    "                    row['diff'] ='F'\n",
    "                rawData.append(row)\n",
    "            else:\n",
    "                print(k)\n",
    "        else:\n",
    "            print(k)\n",
    "            print(a,b)\n",
    "            \n",
    "        \n"
   ]
  },
  {
   "cell_type": "code",
   "execution_count": 40,
   "id": "0b80eba4",
   "metadata": {},
   "outputs": [
    {
     "data": {
      "text/plain": [
       "2171"
      ]
     },
     "execution_count": 40,
     "metadata": {},
     "output_type": "execute_result"
    }
   ],
   "source": [
    "len(rawData)"
   ]
  },
  {
   "cell_type": "code",
   "execution_count": 44,
   "id": "db31c65b",
   "metadata": {},
   "outputs": [
    {
     "data": {
      "text/html": [
       "<div>\n",
       "<style scoped>\n",
       "    .dataframe tbody tr th:only-of-type {\n",
       "        vertical-align: middle;\n",
       "    }\n",
       "\n",
       "    .dataframe tbody tr th {\n",
       "        vertical-align: top;\n",
       "    }\n",
       "\n",
       "    .dataframe thead th {\n",
       "        text-align: right;\n",
       "    }\n",
       "</style>\n",
       "<table border=\"1\" class=\"dataframe\">\n",
       "  <thead>\n",
       "    <tr style=\"text-align: right;\">\n",
       "      <th></th>\n",
       "      <th>article</th>\n",
       "      <th>token</th>\n",
       "      <th>ann1</th>\n",
       "      <th>ann2</th>\n",
       "      <th>diff</th>\n",
       "    </tr>\n",
       "  </thead>\n",
       "  <tbody>\n",
       "    <tr>\n",
       "      <th>0</th>\n",
       "      <td>2016-42-3-391-419</td>\n",
       "      <td>From</td>\n",
       "      <td>O</td>\n",
       "      <td>O</td>\n",
       "      <td>F</td>\n",
       "    </tr>\n",
       "    <tr>\n",
       "      <th>1</th>\n",
       "      <td>2016-42-3-391-419</td>\n",
       "      <td>the</td>\n",
       "      <td>O</td>\n",
       "      <td>O</td>\n",
       "      <td>F</td>\n",
       "    </tr>\n",
       "    <tr>\n",
       "      <th>2</th>\n",
       "      <td>2016-42-3-391-419</td>\n",
       "      <td>perspective</td>\n",
       "      <td>O</td>\n",
       "      <td>O</td>\n",
       "      <td>F</td>\n",
       "    </tr>\n",
       "    <tr>\n",
       "      <th>3</th>\n",
       "      <td>2016-42-3-391-419</td>\n",
       "      <td>of</td>\n",
       "      <td>O</td>\n",
       "      <td>O</td>\n",
       "      <td>F</td>\n",
       "    </tr>\n",
       "    <tr>\n",
       "      <th>4</th>\n",
       "      <td>2016-42-3-391-419</td>\n",
       "      <td>structural</td>\n",
       "      <td>B</td>\n",
       "      <td>B</td>\n",
       "      <td>F</td>\n",
       "    </tr>\n",
       "    <tr>\n",
       "      <th>...</th>\n",
       "      <td>...</td>\n",
       "      <td>...</td>\n",
       "      <td>...</td>\n",
       "      <td>...</td>\n",
       "      <td>...</td>\n",
       "    </tr>\n",
       "    <tr>\n",
       "      <th>2166</th>\n",
       "      <td>2016-42-2-277–306</td>\n",
       "      <td>other</td>\n",
       "      <td>O</td>\n",
       "      <td>O</td>\n",
       "      <td>F</td>\n",
       "    </tr>\n",
       "    <tr>\n",
       "      <th>2167</th>\n",
       "      <td>2016-42-2-277–306</td>\n",
       "      <td>languages</td>\n",
       "      <td>O</td>\n",
       "      <td>O</td>\n",
       "      <td>F</td>\n",
       "    </tr>\n",
       "    <tr>\n",
       "      <th>2168</th>\n",
       "      <td>2016-42-2-277–306</td>\n",
       "      <td>and</td>\n",
       "      <td>O</td>\n",
       "      <td>O</td>\n",
       "      <td>F</td>\n",
       "    </tr>\n",
       "    <tr>\n",
       "      <th>2169</th>\n",
       "      <td>2016-42-2-277–306</td>\n",
       "      <td>domains</td>\n",
       "      <td>B</td>\n",
       "      <td>O</td>\n",
       "      <td>T</td>\n",
       "    </tr>\n",
       "    <tr>\n",
       "      <th>2170</th>\n",
       "      <td>2016-42-2-277–306</td>\n",
       "      <td>.</td>\n",
       "      <td>O</td>\n",
       "      <td>O</td>\n",
       "      <td>F</td>\n",
       "    </tr>\n",
       "  </tbody>\n",
       "</table>\n",
       "<p>2171 rows × 5 columns</p>\n",
       "</div>"
      ],
      "text/plain": [
       "                article        token ann1 ann2 diff\n",
       "0     2016-42-3-391-419         From    O    O    F\n",
       "1     2016-42-3-391-419          the    O    O    F\n",
       "2     2016-42-3-391-419  perspective    O    O    F\n",
       "3     2016-42-3-391-419           of    O    O    F\n",
       "4     2016-42-3-391-419   structural    B    B    F\n",
       "...                 ...          ...  ...  ...  ...\n",
       "2166  2016-42-2-277–306        other    O    O    F\n",
       "2167  2016-42-2-277–306    languages    O    O    F\n",
       "2168  2016-42-2-277–306          and    O    O    F\n",
       "2169  2016-42-2-277–306      domains    B    O    T\n",
       "2170  2016-42-2-277–306            .    O    O    F\n",
       "\n",
       "[2171 rows x 5 columns]"
      ]
     },
     "execution_count": 44,
     "metadata": {},
     "output_type": "execute_result"
    }
   ],
   "source": [
    "df = pd.DataFrame(rawData)\n",
    "df"
   ]
  },
  {
   "cell_type": "code",
   "execution_count": 45,
   "id": "a67f5362",
   "metadata": {},
   "outputs": [],
   "source": [
    "df.to_csv('2016-train.csv',index=False)"
   ]
  },
  {
   "cell_type": "code",
   "execution_count": 50,
   "id": "d9e85890",
   "metadata": {},
   "outputs": [
    {
     "data": {
      "text/plain": [
       "{'2016-42-1-121–161',\n",
       " '2016-42-1-91–120',\n",
       " '2016-42-2-245-275',\n",
       " '2016-42-2-277–306',\n",
       " '2016-42-2-307-343',\n",
       " '2016-42-3-391-419',\n",
       " '2016-42-4-637–660',\n",
       " '2016-42-4-661–701'}"
      ]
     },
     "execution_count": 50,
     "metadata": {},
     "output_type": "execute_result"
    }
   ],
   "source": [
    "id = set(df['article'].to_list())\n",
    "id\n",
    "\n",
    "# for name in id:\n",
    "#     data = ann_df[ann_df.id==i]\n",
    "#     data = data[['token','final']]\n",
    "#     data = data.values.tolist()\n",
    "#     with open(f'final/train/{name}.ann1','w') as file:\n",
    "#         for row in data:\n",
    "#             line = \" \".join(row)+\"\\n\"\n",
    "#             file.write(line)"
   ]
  },
  {
   "cell_type": "code",
   "execution_count": null,
   "id": "76319824",
   "metadata": {},
   "outputs": [],
   "source": []
  }
 ],
 "metadata": {
  "kernelspec": {
   "display_name": "Python 3 (ipykernel)",
   "language": "python",
   "name": "python3"
  },
  "language_info": {
   "codemirror_mode": {
    "name": "ipython",
    "version": 3
   },
   "file_extension": ".py",
   "mimetype": "text/x-python",
   "name": "python",
   "nbconvert_exporter": "python",
   "pygments_lexer": "ipython3",
   "version": "3.10.6"
  }
 },
 "nbformat": 4,
 "nbformat_minor": 5
}
