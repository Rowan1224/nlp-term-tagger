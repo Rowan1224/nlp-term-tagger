{
 "cells": [
  {
   "cell_type": "code",
   "execution_count": 1,
   "id": "89e33a8d",
   "metadata": {},
   "outputs": [],
   "source": [
    "import pandas as pd"
   ]
  },
  {
   "cell_type": "code",
   "execution_count": 12,
   "id": "17cc6722",
   "metadata": {},
   "outputs": [],
   "source": [
    "distil = pd.read_csv('outputs-BERT-Base.csv')\n",
    "bert = pd.read_csv('outputs-BERT-CRF.csv')"
   ]
  },
  {
   "cell_type": "code",
   "execution_count": 3,
   "id": "524942a2",
   "metadata": {},
   "outputs": [
    {
     "data": {
      "text/plain": [
       "(105, 3)"
      ]
     },
     "execution_count": 3,
     "metadata": {},
     "output_type": "execute_result"
    }
   ],
   "source": [
    "distil.shape"
   ]
  },
  {
   "cell_type": "code",
   "execution_count": 4,
   "id": "c4647791",
   "metadata": {},
   "outputs": [
    {
     "data": {
      "text/plain": [
       "(105, 3)"
      ]
     },
     "execution_count": 4,
     "metadata": {},
     "output_type": "execute_result"
    }
   ],
   "source": [
    "bert.shape"
   ]
  },
  {
   "cell_type": "code",
   "execution_count": 5,
   "id": "bb69a5c0",
   "metadata": {},
   "outputs": [],
   "source": [
    "result = pd.concat([bert,distil])"
   ]
  },
  {
   "cell_type": "code",
   "execution_count": 6,
   "id": "baf7a23f",
   "metadata": {},
   "outputs": [
    {
     "data": {
      "text/html": [
       "<div>\n",
       "<style scoped>\n",
       "    .dataframe tbody tr th:only-of-type {\n",
       "        vertical-align: middle;\n",
       "    }\n",
       "\n",
       "    .dataframe tbody tr th {\n",
       "        vertical-align: top;\n",
       "    }\n",
       "\n",
       "    .dataframe thead th {\n",
       "        text-align: right;\n",
       "    }\n",
       "</style>\n",
       "<table border=\"1\" class=\"dataframe\">\n",
       "  <thead>\n",
       "    <tr style=\"text-align: right;\">\n",
       "      <th></th>\n",
       "      <th>sent</th>\n",
       "      <th>predictions</th>\n",
       "      <th>true</th>\n",
       "    </tr>\n",
       "  </thead>\n",
       "  <tbody>\n",
       "    <tr>\n",
       "      <th>0</th>\n",
       "      <td>Systems based on synchronous grammars and tree...</td>\n",
       "      <td>O O O B I O B B O O O O O O B I I I O O O O B O</td>\n",
       "      <td>O O O B I O B I O O O O O O B I I I O O O O B O</td>\n",
       "    </tr>\n",
       "    <tr>\n",
       "      <th>1</th>\n",
       "      <td>The complexity is exponential in the size of i...</td>\n",
       "      <td>O B O B O O O O O B I O O B O O O O O O</td>\n",
       "      <td>O O O O O O O O O B I O O O B I O O O O</td>\n",
       "    </tr>\n",
       "    <tr>\n",
       "      <th>2</th>\n",
       "      <td>We develop a theory of binarization for synchr...</td>\n",
       "      <td>O O O O O B O B I I I O O O B I I O B B I O O</td>\n",
       "      <td>O O O O O B O B I I I O O O B I I O B B I O O</td>\n",
       "    </tr>\n",
       "    <tr>\n",
       "      <th>3</th>\n",
       "      <td>In our large scale experiments we found that a...</td>\n",
       "      <td>O O O O O O O O O O O O B O O O B I O O O O B ...</td>\n",
       "      <td>O O O O O O O O O O B O B O O O B I I O O O O ...</td>\n",
       "    </tr>\n",
       "    <tr>\n",
       "      <th>4</th>\n",
       "      <td>We also discuss the more general and computati...</td>\n",
       "      <td>O O O O O O O B O O O O O O B I O O B I O O O ...</td>\n",
       "      <td>O O O O O O O B O O O O O O B I O B I I O O O ...</td>\n",
       "    </tr>\n",
       "  </tbody>\n",
       "</table>\n",
       "</div>"
      ],
      "text/plain": [
       "                                                sent  \\\n",
       "0  Systems based on synchronous grammars and tree...   \n",
       "1  The complexity is exponential in the size of i...   \n",
       "2  We develop a theory of binarization for synchr...   \n",
       "3  In our large scale experiments we found that a...   \n",
       "4  We also discuss the more general and computati...   \n",
       "\n",
       "                                         predictions  \\\n",
       "0    O O O B I O B B O O O O O O B I I I O O O O B O   \n",
       "1            O B O B O O O O O B I O O B O O O O O O   \n",
       "2      O O O O O B O B I I I O O O B I I O B B I O O   \n",
       "3  O O O O O O O O O O O O B O O O B I O O O O B ...   \n",
       "4  O O O O O O O B O O O O O O B I O O B I O O O ...   \n",
       "\n",
       "                                                true  \n",
       "0    O O O B I O B I O O O O O O B I I I O O O O B O  \n",
       "1            O O O O O O O O O B I O O O B I O O O O  \n",
       "2      O O O O O B O B I I I O O O B I I O B B I O O  \n",
       "3  O O O O O O O O O O B O B O O O B I I O O O O ...  \n",
       "4  O O O O O O O B O O O O O O B I O B I I O O O ...  "
      ]
     },
     "execution_count": 6,
     "metadata": {},
     "output_type": "execute_result"
    }
   ],
   "source": [
    "result."
   ]
  },
  {
   "cell_type": "code",
   "execution_count": 14,
   "id": "0e9694f3",
   "metadata": {},
   "outputs": [
    {
     "name": "stdout",
     "output_type": "stream",
     "text": [
      "NOOOO\n",
      "NOOOO\n",
      "NOOOO\n",
      "NOOOO\n",
      "NOOOO\n",
      "NOOOO\n",
      "NOOOO\n",
      "NOOOO\n",
      "NOOOO\n",
      "NOOOO\n",
      "NOOOO\n",
      "NOOOO\n",
      "NOOOO\n",
      "NOOOO\n",
      "NOOOO\n",
      "NOOOO\n",
      "NOOOO\n",
      "NOOOO\n",
      "NOOOO\n",
      "NOOOO\n",
      "NOOOO\n",
      "NOOOO\n",
      "NOOOO\n",
      "NOOOO\n",
      "NOOOO\n",
      "NOOOO\n",
      "NOOOO\n",
      "NOOOO\n",
      "NOOOO\n",
      "NOOOO\n",
      "NOOOO\n",
      "NOOOO\n",
      "NOOOO\n",
      "NOOOO\n",
      "NOOOO\n",
      "NOOOO\n",
      "NOOOO\n",
      "NOOOO\n",
      "NOOOO\n",
      "NOOOO\n",
      "NOOOO\n",
      "NOOOO\n",
      "NOOOO\n",
      "NOOOO\n",
      "NOOOO\n",
      "NOOOO\n",
      "NOOOO\n",
      "NOOOO\n",
      "NOOOO\n",
      "NOOOO\n",
      "NOOOO\n",
      "NOOOO\n",
      "NOOOO\n",
      "NOOOO\n"
     ]
    }
   ],
   "source": [
    "for p1,p2 in zip(bert.true,distil.true):\n",
    "    if p1!=p2:\n",
    "        print(\"NOOOO\")"
   ]
  },
  {
   "cell_type": "code",
   "execution_count": null,
   "id": "f60ffc6d",
   "metadata": {},
   "outputs": [],
   "source": []
  }
 ],
 "metadata": {
  "kernelspec": {
   "display_name": "Python 3 (ipykernel)",
   "language": "python",
   "name": "python3"
  },
  "language_info": {
   "codemirror_mode": {
    "name": "ipython",
    "version": 3
   },
   "file_extension": ".py",
   "mimetype": "text/x-python",
   "name": "python",
   "nbconvert_exporter": "python",
   "pygments_lexer": "ipython3",
   "version": "3.10.6"
  }
 },
 "nbformat": 4,
 "nbformat_minor": 5
}
